{
 "cells": [
  {
   "cell_type": "code",
   "execution_count": 1,
   "id": "815b3d00-4402-4f9c-8841-c2a230ef92f1",
   "metadata": {
    "tags": []
   },
   "outputs": [
    {
     "name": "stdout",
     "output_type": "stream",
     "text": [
      "Requirement already satisfied: opencv-python in c:\\users\\systems\\anaconda3\\lib\\site-packages (4.9.0.80)\n",
      "Requirement already satisfied: numpy>=1.21.2 in c:\\users\\systems\\anaconda3\\lib\\site-packages (from opencv-python) (1.24.3)\n",
      "Note: you may need to restart the kernel to use updated packages.\n"
     ]
    }
   ],
   "source": [
    "pip install opencv-python"
   ]
  },
  {
   "cell_type": "code",
   "execution_count": 1,
   "id": "817c6ed3-e788-4c2b-89bc-9a23f148d934",
   "metadata": {
    "tags": []
   },
   "outputs": [],
   "source": [
    "import cv2\n",
    "import pickle\n",
    "import numpy as np\n",
    "import os"
   ]
  },
  {
   "cell_type": "code",
   "execution_count": 2,
   "id": "3b868619-c9ce-4613-bb99-32fc390606bd",
   "metadata": {
    "tags": []
   },
   "outputs": [],
   "source": [
    "from sklearn.neighbors import KNeighborsClassifier\n",
    "from sklearn.metrics import accuracy_score"
   ]
  },
  {
   "cell_type": "code",
   "execution_count": 3,
   "id": "1c6b1abd-9c05-40f1-98ba-d06021d16750",
   "metadata": {
    "tags": []
   },
   "outputs": [],
   "source": [
    "import cv2\n",
    "import numpy as np\n",
    "import os\n",
    "import pickle\n",
    "from sklearn.neighbors import KNeighborsClassifier\n",
    "\n",
    "# Function to collect training data for a specific person\n",
    "def collect_training_data(video_capture, faces_detector, name, max_samples=100):\n",
    "    \"\"\"\n",
    "    Collects training data for a specific person.\n",
    "    \n",
    "    Parameters:\n",
    "        video_capture (cv2.VideoCapture): Video capture object.\n",
    "        faces_detector (cv2.CascadeClassifier): Cascade classifier for face detection.\n",
    "        name (str): Name of the person.\n",
    "        max_samples (int): Maximum number of training samples to collect (default is 100).\n",
    "    \"\"\"\n",
    "    faces_data = []\n",
    "    i = 0\n",
    "    \n",
    "    while True:\n",
    "        ret, frame = video_capture.read()\n",
    "        gray = cv2.cvtColor(frame, cv2.COLOR_BGR2GRAY)\n",
    "        faces = faces_detector.detectMultiScale(gray, 1.3, 5)\n",
    "        \n",
    "        for (x, y, w, h) in faces:\n",
    "            crop_img = frame[y:y+h, x:x+w, :]\n",
    "            if not crop_img.size == 0:\n",
    "                resized_img = cv2.resize(crop_img, (50, 50))\n",
    "                if len(faces_data) < max_samples:\n",
    "                    faces_data.append(resized_img)\n",
    "        \n",
    "        i += 1\n",
    "        cv2.putText(frame, str(len(faces_data)), (50, 50), cv2.FONT_HERSHEY_COMPLEX, 1, (0, 255, 0), 2)\n",
    "        cv2.imshow(\"Collecting Training Data\", frame)\n",
    "        k = cv2.waitKey(1)\n",
    "        \n",
    "        if k == ord('q') or len(faces_data) == max_samples:\n",
    "            break\n",
    "    \n",
    "    faces_data = np.array(faces_data)\n",
    "    faces_data = faces_data.reshape(len(faces_data), -1)\n",
    "    \n",
    "    # Save or update training data for the specific person\n",
    "    names_file_path = 'datas/names.pkl'\n",
    "    faces_data_file_path = 'datas/faces_data.pkl'\n",
    "    \n",
    "    if 'names.pkl' not in os.listdir('datas/'):\n",
    "        labels = [name] * len(faces_data)\n",
    "        with open(names_file_path, 'wb') as f:\n",
    "            pickle.dump(labels, f)\n",
    "    else:\n",
    "        with open(names_file_path, 'rb') as f:\n",
    "            labels = pickle.load(f)\n",
    "        labels += [name] * len(faces_data)\n",
    "        with open(names_file_path, 'wb') as f:\n",
    "            pickle.dump(labels, f)\n",
    "    \n",
    "    if 'faces_data.pkl' not in os.listdir('datas/'):\n",
    "        with open(faces_data_file_path, 'wb') as f:\n",
    "            pickle.dump(faces_data, f)\n",
    "    else:\n",
    "        with open(faces_data_file_path, 'rb') as f:\n",
    "            existing_faces_data = pickle.load(f)\n",
    "        faces_data = np.concatenate((existing_faces_data, faces_data), axis=0)\n",
    "        with open(faces_data_file_path, 'wb') as f:\n",
    "            pickle.dump(faces_data, f)\n"
   ]
  },
  {
   "cell_type": "code",
   "execution_count": 4,
   "id": "347dacd2-975d-4a04-861a-10a9761a1f27",
   "metadata": {},
   "outputs": [],
   "source": [
    "\n",
    "# Function to recognize faces\n",
    "def recognize_faces(video_capture, faces_detector, knn_classifier):\n",
    "    \"\"\"\n",
    "    Recognizes faces in real-time using a trained classifier.\n",
    "    \n",
    "    Parameters:\n",
    "        video_capture (cv2.VideoCapture): Video capture object.\n",
    "        faces_detector (cv2.CascadeClassifier): Cascade classifier for face detection.\n",
    "        knn_classifier (sklearn.neighbors.KNeighborsClassifier): Trained KNN classifier.\n",
    "    \"\"\"\n",
    "    while True:\n",
    "        ret, frame = video_capture.read()\n",
    "        gray = cv2.cvtColor(frame, cv2.COLOR_BGR2GRAY)\n",
    "        faces = faces_detector.detectMultiScale(gray, 1.3, 5)\n",
    "        \n",
    "        for (x, y, w, h) in faces:\n",
    "            crop_img = frame[y:y+h, x:x+w, :]\n",
    "            if not crop_img.size == 0:\n",
    "                resized_img = cv2.resize(crop_img, (50, 50)).flatten().reshape(1, -1)\n",
    "                output = knn_classifier.predict(resized_img)\n",
    "                cv2.putText(frame, str(output[0]), (x, y-15), cv2.FONT_HERSHEY_COMPLEX, 1, (255, 255,0), 2)\n",
    "                cv2.rectangle(frame, (x, y), (x+w, y+h), (0, 255, 0), 2)\n",
    "        \n",
    "        cv2.imshow(\"Recognizing Faces\", frame)\n",
    "        k = cv2.waitKey(1)\n",
    "        \n",
    "        if k == ord('q'):\n",
    "            break\n",
    "\n",
    "# Main function\n",
    "\n"
   ]
  },
  {
   "cell_type": "code",
   "execution_count": 5,
   "id": "49cb8411-4424-4c4d-8039-2a362a75aa57",
   "metadata": {},
   "outputs": [
    {
     "name": "stdin",
     "output_type": "stream",
     "text": [
      "Enter the number of persons:  2\n",
      "Enter the person's name:  Madhavan\n",
      "Enter the person's name:  Virat\n"
     ]
    }
   ],
   "source": [
    "def main():\n",
    "    video_capture = cv2.VideoCapture(0)\n",
    "    faces_detector = cv2.CascadeClassifier('datas/haarcascade_frontalface_default.xml')\n",
    "    \n",
    "    # Train or update the model for each person\n",
    "    num_persons = int(input(\"Enter the number of persons: \"))\n",
    "    for _ in range(num_persons):\n",
    "        name = input(\"Enter the person's name: \")\n",
    "        collect_training_data(video_capture, faces_detector, name)\n",
    "    \n",
    "    # Load training data\n",
    "    with open('datas/names.pkl', 'rb') as f:\n",
    "        labels = pickle.load(f)\n",
    "    with open('datas/faces_data.pkl', 'rb') as f:\n",
    "        faces_data = pickle.load(f)\n",
    "    \n",
    "    # Train KNN classifier\n",
    "    knn_classifier = KNeighborsClassifier(n_neighbors=5)\n",
    "    knn_classifier.fit(faces_data, labels)\n",
    "    \n",
    "    # Recognize faces\n",
    "    recognize_faces(video_capture, faces_detector, knn_classifier)\n",
    "    \n",
    "    video_capture.release()\n",
    "    cv2.destroyAllWindows()\n",
    "\n",
    "if __name__ == \"__main__\":\n",
    "    main()"
   ]
  },
  {
   "cell_type": "code",
   "execution_count": null,
   "id": "b5180d05-b2e7-4240-b22b-87823e480a24",
   "metadata": {},
   "outputs": [],
   "source": []
  },
  {
   "cell_type": "code",
   "execution_count": null,
   "id": "fce39626-2008-4968-9065-f04f6d51ba39",
   "metadata": {},
   "outputs": [],
   "source": []
  },
  {
   "cell_type": "code",
   "execution_count": null,
   "id": "f3c4fd8e-56d8-432f-b846-4b4a987c860e",
   "metadata": {},
   "outputs": [],
   "source": []
  },
  {
   "cell_type": "code",
   "execution_count": null,
   "id": "35e7387a-5a0d-41ee-8093-acdde3bd51f0",
   "metadata": {},
   "outputs": [],
   "source": []
  },
  {
   "cell_type": "code",
   "execution_count": null,
   "id": "92521f2b-e2a1-4bd1-bd8a-7aa7d3a0a85e",
   "metadata": {},
   "outputs": [],
   "source": []
  }
 ],
 "metadata": {
  "kernelspec": {
   "display_name": "Python 3 (ipykernel)",
   "language": "python",
   "name": "python3"
  },
  "language_info": {
   "codemirror_mode": {
    "name": "ipython",
    "version": 3
   },
   "file_extension": ".py",
   "mimetype": "text/x-python",
   "name": "python",
   "nbconvert_exporter": "python",
   "pygments_lexer": "ipython3",
   "version": "3.11.5"
  }
 },
 "nbformat": 4,
 "nbformat_minor": 5
}
